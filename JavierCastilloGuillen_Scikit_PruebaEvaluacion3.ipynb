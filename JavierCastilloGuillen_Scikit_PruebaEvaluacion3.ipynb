{
 "cells": [
  {
   "cell_type": "markdown",
   "id": "f99fa3b0",
   "metadata": {},
   "source": [
    "#### Javier Castillo Guillén\n",
    "\n",
    "## Ejercicio Evaluación Prueba 3\n",
    "\n",
    "### Modelo de Regresión utilizando Scikit-Learn"
   ]
  },
  {
   "cell_type": "code",
   "execution_count": 1,
   "id": "ec22248d",
   "metadata": {},
   "outputs": [],
   "source": [
    "import pandas as pd\n",
    "import numpy as np\n",
    "import matplotlib.pyplot as plt\n",
    "import statsmodels.api as sm\n",
    "from scipy import stats\n"
   ]
  },
  {
   "cell_type": "markdown",
   "id": "034d5603",
   "metadata": {},
   "source": [
    "#### 1. Obtención, preparación y visualización de datos\n",
    "\n",
    "Al igual que en ejercicio anterior, nuestro marco de datos viene determinado por una hoja de cálculo. En lugar de utilizar el módulo CSV, vamos a utilizar pd.read_excel ya que el archivo viene con la extensión xlsx. Asignaremos la variable *data* al marco de datos global.\n",
    "\n",
    "Posteriormente comenzamos la **segregación de datos**, denominando $X$ la columna ['House Size (sq.ft.)'] e $Y$ a la columna ['House Price'], puesto que ***intentamos poner en relación el precio que tendrá la vivienda con respecto al tamaño de la misma***. Es decir, el precio de la casa será nuestra variable dependiente. Una vez más, podemos acceder a una visualización del marco de datos mediante .head(), .tail() o utilizando .info() si buscamos obtener información general.\n",
    "\n",
    "Finalmente, obtenemos una **visualización general de los datos mediante un scatterplot**. Esto nos permitirá observar gráficamente los datos. En la columna $Y$ aparecerá el precio de la vivienda y en el eje $X$ el tamaño. A diferencia de en el ejercicio anterior, introducimos etiquetas de referencia xlabel e ylabel para marcar los nombres.\n",
    "\n",
    "Por último, para poner en contexto los datos desde el punto 0, debemos introducir una función plt.axis() que nos permite **personalizar las dimensiones del eje**."
   ]
  },
  {
   "cell_type": "code",
   "execution_count": 2,
   "id": "c91b9500",
   "metadata": {},
   "outputs": [
    {
     "data": {
      "text/html": [
       "<div>\n",
       "<style scoped>\n",
       "    .dataframe tbody tr th:only-of-type {\n",
       "        vertical-align: middle;\n",
       "    }\n",
       "\n",
       "    .dataframe tbody tr th {\n",
       "        vertical-align: top;\n",
       "    }\n",
       "\n",
       "    .dataframe thead th {\n",
       "        text-align: right;\n",
       "    }\n",
       "</style>\n",
       "<table border=\"1\" class=\"dataframe\">\n",
       "  <thead>\n",
       "    <tr style=\"text-align: right;\">\n",
       "      <th></th>\n",
       "      <th>House Price</th>\n",
       "      <th>House Size (sq.ft.)</th>\n",
       "      <th>State</th>\n",
       "      <th>Number of Rooms</th>\n",
       "      <th>Year of Construction</th>\n",
       "    </tr>\n",
       "  </thead>\n",
       "  <tbody>\n",
       "    <tr>\n",
       "      <th>0</th>\n",
       "      <td>1116000</td>\n",
       "      <td>1940</td>\n",
       "      <td>IN</td>\n",
       "      <td>8</td>\n",
       "      <td>2002</td>\n",
       "    </tr>\n",
       "    <tr>\n",
       "      <th>1</th>\n",
       "      <td>860000</td>\n",
       "      <td>1300</td>\n",
       "      <td>IN</td>\n",
       "      <td>5</td>\n",
       "      <td>1992</td>\n",
       "    </tr>\n",
       "    <tr>\n",
       "      <th>2</th>\n",
       "      <td>818400</td>\n",
       "      <td>1420</td>\n",
       "      <td>IN</td>\n",
       "      <td>6</td>\n",
       "      <td>1987</td>\n",
       "    </tr>\n",
       "    <tr>\n",
       "      <th>3</th>\n",
       "      <td>1000000</td>\n",
       "      <td>1680</td>\n",
       "      <td>IN</td>\n",
       "      <td>7</td>\n",
       "      <td>2000</td>\n",
       "    </tr>\n",
       "    <tr>\n",
       "      <th>4</th>\n",
       "      <td>640000</td>\n",
       "      <td>1270</td>\n",
       "      <td>IN</td>\n",
       "      <td>5</td>\n",
       "      <td>1995</td>\n",
       "    </tr>\n",
       "  </tbody>\n",
       "</table>\n",
       "</div>"
      ],
      "text/plain": [
       "   House Price  House Size (sq.ft.) State  Number of Rooms  \\\n",
       "0      1116000                 1940    IN                8   \n",
       "1       860000                 1300    IN                5   \n",
       "2       818400                 1420    IN                6   \n",
       "3      1000000                 1680    IN                7   \n",
       "4       640000                 1270    IN                5   \n",
       "\n",
       "   Year of Construction  \n",
       "0                  2002  \n",
       "1                  1992  \n",
       "2                  1987  \n",
       "3                  2000  \n",
       "4                  1995  "
      ]
     },
     "execution_count": 2,
     "metadata": {},
     "output_type": "execute_result"
    }
   ],
   "source": [
    "data = pd.read_excel('Housing.xlsx')\n",
    "data.head()"
   ]
  },
  {
   "cell_type": "code",
   "execution_count": 3,
   "id": "fa810113",
   "metadata": {},
   "outputs": [
    {
     "data": {
      "text/plain": [
       "0    1940\n",
       "1    1300\n",
       "2    1420\n",
       "3    1680\n",
       "4    1270\n",
       "Name: House Size (sq.ft.), dtype: int64"
      ]
     },
     "execution_count": 3,
     "metadata": {},
     "output_type": "execute_result"
    }
   ],
   "source": [
    "X = data['House Size (sq.ft.)']\n",
    "Y = data['House Price']\n",
    "X.head()"
   ]
  },
  {
   "cell_type": "code",
   "execution_count": 4,
   "id": "b0cef1f1",
   "metadata": {},
   "outputs": [
    {
     "data": {
      "text/plain": [
       "0    1116000\n",
       "1     860000\n",
       "2     818400\n",
       "3    1000000\n",
       "4     640000\n",
       "Name: House Price, dtype: int64"
      ]
     },
     "execution_count": 4,
     "metadata": {},
     "output_type": "execute_result"
    }
   ],
   "source": [
    "Y.head()"
   ]
  },
  {
   "cell_type": "code",
   "execution_count": 5,
   "id": "d996fcc1",
   "metadata": {},
   "outputs": [
    {
     "data": {
      "image/png": "[encoded data removed]",
      "text/plain": [
       "<Figure size 432x288 with 1 Axes>"
      ]
     },
     "metadata": {
      "needs_background": "light"
     },
     "output_type": "display_data"
    }
   ],
   "source": [
    "plt.scatter(X,Y)\n",
    "plt.xlabel('House size')\n",
    "plt.ylabel('House Price')\n",
    "plt.show()"
   ]
  },
  {
   "cell_type": "code",
   "execution_count": 6,
   "id": "45273f5f",
   "metadata": {},
   "outputs": [
    {
     "data": {
      "image/png": "[encoded data removed]",
      "text/plain": [
       "<Figure size 432x288 with 1 Axes>"
      ]
     },
     "metadata": {
      "needs_background": "light"
     },
     "output_type": "display_data"
    }
   ],
   "source": [
    "plt.scatter(X,Y) \n",
    "plt.axis([0, 2500, 0, 1500000]) \n",
    "plt.xlabel(\"House size\") \n",
    "plt.ylabel(\"House Price\") \n",
    "plt.show()"
   ]
  },
  {
   "cell_type": "markdown",
   "id": "13a22b18",
   "metadata": {},
   "source": [
    "#### 2. Preparamos la muestra para la regresión\n",
    "\n",
    "Una vez visualizados los datos, pasamos a preparar el modelo de regresión utilizando Scikit-learn. El primer paso que tenemos que realizar es el de **separar nuestra muestra** en el grupo de entrenamiento (train) y de testeo (test). Para ello utilizaremos el módulo *train_test_split*, donde indicaremos los datos a introducir (X,Y), el tamaño de la muestra que queremos incluir (test_size = 0.2) = 20% de la muestra, *dejando el otro 80% para train* y por último random_state = 0 que nos permite reproducir el mismo modelo.\n",
    "\n",
    "Finalmente tenemos que ***convertir los datos segmentados en el formato y dimensión adecuada que nos requerirá Scikit-Learn*** para poder implementar la regresión. Para ello utilizamos la función reshape() de numpy para los array.\n",
    "\n",
    "Por último, si queremos comprobar los parámetros de la segmentación, podemos hacerlo pasando la función len(X_train), para ver la cantidad, type(X_train) para ver el formato o X_train.shape para ver la dimensión del array."
   ]
  },
  {
   "cell_type": "code",
   "execution_count": 7,
   "id": "dd24dbaf",
   "metadata": {},
   "outputs": [],
   "source": [
    "from sklearn.model_selection import train_test_split"
   ]
  },
  {
   "cell_type": "code",
   "execution_count": 8,
   "id": "194352df",
   "metadata": {},
   "outputs": [],
   "source": [
    "X_train, X_test, y_train, y_test = train_test_split(X,Y, test_size = 0.2, random_state=0)"
   ]
  },
  {
   "cell_type": "code",
   "execution_count": 9,
   "id": "f0ccb4e0",
   "metadata": {},
   "outputs": [],
   "source": [
    "X_train= np.array(X_train).reshape(-1,1) \n",
    "y_train= np.array(y_train).reshape(-1,1) \n",
    "X_test= np.array(X_test).reshape(-1,1) \n",
    "y_test= np.array(y_test).reshape(-1,1) "
   ]
  },
  {
   "cell_type": "markdown",
   "id": "18fc5def",
   "metadata": {},
   "source": [
    "#### 3. Implementación de la Regresión \n",
    "\n",
    "Una vez tenemos los datos preparados, estamos listos para implementar el modelo de regresión de Scikit-Learn. En primer lugar, importaremos la *class* necesaria e ***inicializaremos el objeto LinearRegression()*** al que asignaremos el nombre linregression para poder utilizar los *métodos* de la misma.\n",
    "\n",
    "Posteriormente, pasaremos los datos sobre los que queremos hacer la regresión mediante el método .fit() aplicado al objeto inicializado que llamamos linregression. El paso siguiente será la obtención de métricas y comprobaciones de precisión."
   ]
  },
  {
   "cell_type": "code",
   "execution_count": 10,
   "id": "70c752b9",
   "metadata": {},
   "outputs": [
    {
     "data": {
      "text/plain": [
       "LinearRegression()"
      ]
     },
     "execution_count": 10,
     "metadata": {},
     "output_type": "execute_result"
    }
   ],
   "source": [
    "from sklearn.linear_model import LinearRegression \n",
    "linregression = LinearRegression()\n",
    "linregression.fit(X_train, y_train)"
   ]
  },
  {
   "cell_type": "markdown",
   "id": "ddf11ea8",
   "metadata": {},
   "source": [
    "#### 4. Obtención y comparación de resultados\n",
    "\n",
    "Una vez establecemos la regresión, podemos podemos obtener la precisión sobre la predicción de datos para nuestra variable independiente (Precio de la vivienda). Para ello podemos utilizar la función .predict() sobre el marco de datos utilizado para el \"entrenamiento\" del algoritmo *X_test*. ***Esto nos permitirá comprobar posteriormente si los datos obtenidos están en concordancia con los datos de la muestra y con qué precisión.***\n",
    "\n",
    "Además, es relativamente sencillo obtener el *intercept* y el *slope* mediante las funciones .intercept_ y .coef_ del objeto LinearRegression() de scikit-learn. ***De este modo podemos obtener la ecuación para nuestra recta de regresión***.\n",
    "\n",
    "$ Y = \\alpha + \\beta · x$, donde $\\alpha =$ intercept y $\\beta =$ slope.\n",
    "\n",
    "Por útlimo, podemos obtener más métricas sobre el modelo en caso de que lo precisemos para un mayor detalle como $R^2$ mediante linregression.score(), etc."
   ]
  },
  {
   "cell_type": "code",
   "execution_count": 11,
   "id": "da072d8b",
   "metadata": {},
   "outputs": [
    {
     "data": {
      "text/plain": [
       "array([[634973.36884605],\n",
       "       [772590.58762453],\n",
       "       [752930.98494189],\n",
       "       [890548.20372037]])"
      ]
     },
     "execution_count": 11,
     "metadata": {},
     "output_type": "execute_result"
    }
   ],
   "source": [
    "y_pred = linregression.predict(X_test)\n",
    "y_pred"
   ]
  },
  {
   "cell_type": "code",
   "execution_count": 12,
   "id": "d9a6ed52",
   "metadata": {},
   "outputs": [
    {
     "data": {
      "text/plain": [
       "array([261440.9178759])"
      ]
     },
     "execution_count": 12,
     "metadata": {},
     "output_type": "execute_result"
    }
   ],
   "source": [
    "linregression.intercept_"
   ]
  },
  {
   "cell_type": "code",
   "execution_count": 13,
   "id": "07e1467c",
   "metadata": {},
   "outputs": [
    {
     "data": {
      "text/plain": [
       "array([[393.19205365]])"
      ]
     },
     "execution_count": 13,
     "metadata": {},
     "output_type": "execute_result"
    }
   ],
   "source": [
    "linregression.coef_"
   ]
  },
  {
   "cell_type": "code",
   "execution_count": 14,
   "id": "5eaef346",
   "metadata": {},
   "outputs": [
    {
     "data": {
      "image/png": "[encoded data removed]",
      "text/plain": [
       "<Figure size 432x288 with 1 Axes>"
      ]
     },
     "metadata": {
      "needs_background": "light"
     },
     "output_type": "display_data"
    }
   ],
   "source": [
    "import matplotlib.pyplot as plt \n",
    "plt.scatter(X_train, y_train) \n",
    "plt.plot(X_train, linregression.predict(X_train), 'r') \n",
    "plt.show()"
   ]
  },
  {
   "cell_type": "markdown",
   "id": "7fceea49",
   "metadata": {},
   "source": [
    "# Comentario\n",
    "\n",
    "\n",
    "Una vez implementado nuestro modelo, es interesante comprobar, como comentamos anteriormente, la precisión de los datos obtenidos para $Y predict$ por el algoritmo en nuestra muestra conocida en comparación con los datos reales de $Y test$. Dependiendo del estudio, bastará con ver los np.array, generar un dataframe mayor para obtener métricas o visualizar de forma gráfica como en el ejmplo mostrado. \n",
    "\n"
   ]
  },
  {
   "cell_type": "code",
   "execution_count": 15,
   "id": "c88ec2d2",
   "metadata": {},
   "outputs": [
    {
     "name": "stdout",
     "output_type": "stream",
     "text": [
      "Muestra real = [[ 650000]\n",
      " [ 860000]\n",
      " [ 680000]\n",
      " [1100000]]\n",
      "Predicción = [[634973.37]\n",
      " [772590.59]\n",
      " [752930.98]\n",
      " [890548.2 ]]\n"
     ]
    }
   ],
   "source": [
    "print(f'Muestra real = {y_test}')\n",
    "print(f'Predicción = {np.round(y_pred,2)}')"
   ]
  },
  {
   "cell_type": "code",
   "execution_count": 16,
   "id": "8d113f88",
   "metadata": {},
   "outputs": [
    {
     "data": {
      "text/plain": [
       "<matplotlib.legend.Legend at 0x27111df1fa0>"
      ]
     },
     "execution_count": 16,
     "metadata": {},
     "output_type": "execute_result"
    },
    {
     "data": {
      "image/png": "[encoded data removed]",
      "text/plain": [
       "<Figure size 432x288 with 1 Axes>"
      ]
     },
     "metadata": {
      "needs_background": "light"
     },
     "output_type": "display_data"
    }
   ],
   "source": [
    "plt.plot(y_test, label='Muestra',marker='o', color = 'b')\n",
    "plt.plot(y_pred, label='Predicción', marker='o', linestyle='--', color='r')\n",
    "plt.xticks(list(range(len(y_pred))))\n",
    "\n",
    "plt.legend()"
   ]
  },
  {
   "cell_type": "code",
   "execution_count": 17,
   "id": "b760cc22",
   "metadata": {},
   "outputs": [
    {
     "data": {
      "text/plain": [
       "0.6980267531453604"
      ]
     },
     "execution_count": 17,
     "metadata": {},
     "output_type": "execute_result"
    }
   ],
   "source": [
    "linregression.score(X_train, y_train) # R^2"
   ]
  },
  {
   "cell_type": "markdown",
   "id": "96eea3f9",
   "metadata": {},
   "source": [
    "### Enfoque utilizando StatsModels\n",
    "\n",
    "Por último, comentar que podemos implementar el módulo statsmodels para implementar el modelo de regresión obteniendo las siguientes métricas."
   ]
  },
  {
   "cell_type": "code",
   "execution_count": 18,
   "id": "d294b703",
   "metadata": {},
   "outputs": [
    {
     "data": {
      "text/html": [
       "<table class=\"simpletable\">\n",
       "<caption>OLS Regression Results</caption>\n",
       "<tr>\n",
       "  <th>Dep. Variable:</th>            <td>Y</td>        <th>  R-squared:         </th> <td>   0.678</td>\n",
       "</tr>\n",
       "<tr>\n",
       "  <th>Model:</th>                   <td>OLS</td>       <th>  Adj. R-squared:    </th> <td>   0.660</td>\n",
       "</tr>\n",
       "<tr>\n",
       "  <th>Method:</th>             <td>Least Squares</td>  <th>  F-statistic:       </th> <td>   37.95</td>\n",
       "</tr>\n",
       "<tr>\n",
       "  <th>Date:</th>             <td>Sat, 05 Mar 2022</td> <th>  Prob (F-statistic):</th> <td>8.13e-06</td>\n",
       "</tr>\n",
       "<tr>\n",
       "  <th>Time:</th>                 <td>11:19:10</td>     <th>  Log-Likelihood:    </th> <td> -260.43</td>\n",
       "</tr>\n",
       "<tr>\n",
       "  <th>No. Observations:</th>      <td>    20</td>      <th>  AIC:               </th> <td>   524.9</td>\n",
       "</tr>\n",
       "<tr>\n",
       "  <th>Df Residuals:</th>          <td>    18</td>      <th>  BIC:               </th> <td>   526.8</td>\n",
       "</tr>\n",
       "<tr>\n",
       "  <th>Df Model:</th>              <td>     1</td>      <th>                     </th>     <td> </td>   \n",
       "</tr>\n",
       "<tr>\n",
       "  <th>Covariance Type:</th>      <td>nonrobust</td>    <th>                     </th>     <td> </td>   \n",
       "</tr>\n",
       "</table>\n",
       "<table class=\"simpletable\">\n",
       "<tr>\n",
       "      <td></td>         <th>coef</th>     <th>std err</th>      <th>t</th>      <th>P>|t|</th>  <th>[0.025</th>    <th>0.975]</th>  \n",
       "</tr>\n",
       "<tr>\n",
       "  <th>Intercept</th> <td> 2.608e+05</td> <td> 9.76e+04</td> <td>    2.673</td> <td> 0.016</td> <td> 5.58e+04</td> <td> 4.66e+05</td>\n",
       "</tr>\n",
       "<tr>\n",
       "  <th>X</th>         <td>  401.9163</td> <td>   65.243</td> <td>    6.160</td> <td> 0.000</td> <td>  264.846</td> <td>  538.987</td>\n",
       "</tr>\n",
       "</table>\n",
       "<table class=\"simpletable\">\n",
       "<tr>\n",
       "  <th>Omnibus:</th>       <td> 1.238</td> <th>  Durbin-Watson:     </th> <td>   1.810</td>\n",
       "</tr>\n",
       "<tr>\n",
       "  <th>Prob(Omnibus):</th> <td> 0.538</td> <th>  Jarque-Bera (JB):  </th> <td>   0.715</td>\n",
       "</tr>\n",
       "<tr>\n",
       "  <th>Skew:</th>          <td>-0.459</td> <th>  Prob(JB):          </th> <td>   0.699</td>\n",
       "</tr>\n",
       "<tr>\n",
       "  <th>Kurtosis:</th>      <td> 2.884</td> <th>  Cond. No.          </th> <td>5.66e+03</td>\n",
       "</tr>\n",
       "</table><br/><br/>Notes:<br/>[1] Standard Errors assume that the covariance matrix of the errors is correctly specified.<br/>[2] The condition number is large, 5.66e+03. This might indicate that there are<br/>strong multicollinearity or other numerical problems."
      ],
      "text/plain": [
       "<class 'statsmodels.iolib.summary.Summary'>\n",
       "\"\"\"\n",
       "                            OLS Regression Results                            \n",
       "==============================================================================\n",
       "Dep. Variable:                      Y   R-squared:                       0.678\n",
       "Model:                            OLS   Adj. R-squared:                  0.660\n",
       "Method:                 Least Squares   F-statistic:                     37.95\n",
       "Date:                Sat, 05 Mar 2022   Prob (F-statistic):           8.13e-06\n",
       "Time:                        11:19:10   Log-Likelihood:                -260.43\n",
       "No. Observations:                  20   AIC:                             524.9\n",
       "Df Residuals:                      18   BIC:                             526.8\n",
       "Df Model:                           1                                         \n",
       "Covariance Type:            nonrobust                                         \n",
       "==============================================================================\n",
       "                 coef    std err          t      P>|t|      [0.025      0.975]\n",
       "------------------------------------------------------------------------------\n",
       "Intercept   2.608e+05   9.76e+04      2.673      0.016    5.58e+04    4.66e+05\n",
       "X            401.9163     65.243      6.160      0.000     264.846     538.987\n",
       "==============================================================================\n",
       "Omnibus:                        1.238   Durbin-Watson:                   1.810\n",
       "Prob(Omnibus):                  0.538   Jarque-Bera (JB):                0.715\n",
       "Skew:                          -0.459   Prob(JB):                        0.699\n",
       "Kurtosis:                       2.884   Cond. No.                     5.66e+03\n",
       "==============================================================================\n",
       "\n",
       "Notes:\n",
       "[1] Standard Errors assume that the covariance matrix of the errors is correctly specified.\n",
       "[2] The condition number is large, 5.66e+03. This might indicate that there are\n",
       "strong multicollinearity or other numerical problems.\n",
       "\"\"\""
      ]
     },
     "execution_count": 18,
     "metadata": {},
     "output_type": "execute_result"
    }
   ],
   "source": [
    "import statsmodels.formula.api as smf\n",
    "\n",
    "formula = \"Y ~ X\"\n",
    "\n",
    "modelo = smf.ols(formula, data = data).fit()\n",
    "modelo.summary()"
   ]
  },
  {
   "cell_type": "code",
   "execution_count": 19,
   "id": "3be291d7",
   "metadata": {},
   "outputs": [
    {
     "data": {
      "text/plain": [
       "Intercept    260806.236056\n",
       "X               401.916286\n",
       "dtype: float64"
      ]
     },
     "execution_count": 19,
     "metadata": {},
     "output_type": "execute_result"
    }
   ],
   "source": [
    "modelo.params"
   ]
  },
  {
   "cell_type": "markdown",
   "id": "cf949519",
   "metadata": {},
   "source": [
    "#### Resultado de los dos modelos\n",
    "\n",
    "El modelo de **Scikit-Learn** arroja un resultado de $Y = 261440.92 + 393.19x$ con un $R^2 = 0.698$ \n",
    "\n",
    "El modelo de **Statsmodels** arroja un resultado de $Y= 260806.23 + 401.92x$ con un $R^2 = 0.678$\n",
    "\n",
    "\n",
    "Pese a que los modelos explican claramente que existe una relación lineal entre el tamaño y el precio de la vivienda para la muestra seleccionada, ***sería interesante introducir alguna variable más o incrementar la muestra de tal forma que nos ayude a definir con mayor precisión esta relación.*** \n",
    "\n",
    "Pasariamos por tanto de un modelo de regresión simple a un modelo de regresión múltiple, en el cual intentaríamos buscar un incremento de métricas tales como $R^2$ o la reducción de $SE(\\alpha)$ y $SE(\\beta)$ mediante el aumento de la muestra. "
   ]
  }
 ],
 "metadata": {
  "kernelspec": {
   "display_name": "Python 3 (ipykernel)",
   "language": "python",
   "name": "python3"
  },
  "language_info": {
   "codemirror_mode": {
    "name": "ipython",
    "version": 3
   },
   "file_extension": ".py",
   "mimetype": "text/x-python",
   "name": "python",
   "nbconvert_exporter": "python",
   "pygments_lexer": "ipython3",
   "version": "3.9.5"
  }
 },
 "nbformat": 4,
 "nbformat_minor": 5
}
